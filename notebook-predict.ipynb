{
 "cells": [
  {
   "cell_type": "code",
   "execution_count": 1,
   "id": "a816da71",
   "metadata": {},
   "outputs": [],
   "source": [
    "import pickle\n",
    "import pandas as pd"
   ]
  },
  {
   "cell_type": "code",
   "execution_count": null,
   "id": "47f4439c",
   "metadata": {},
   "outputs": [],
   "source": [
    "MODEL_PATH                       = 'model/cat_base_optuna.pkl'\n",
    "INPUT_CSV                        = 'data/data_student.csv'\n",
    "OUTPUT_FULL_PRED_CSV             = 'data/data_student_predict.csv'\n",
    "OUTPUT_ENROLLED_STATUS_CSV       = 'data/data_student_predict_enrolled_status.csv'\n",
    "DELIMITER                        = ';'"
   ]
  },
  {
   "cell_type": "code",
   "execution_count": 3,
   "id": "09d0b811",
   "metadata": {},
   "outputs": [],
   "source": [
    "with open(MODEL_PATH, 'rb') as f:\n",
    "    model = pickle.load(f)"
   ]
  },
  {
   "cell_type": "code",
   "execution_count": 4,
   "id": "b4581cc4",
   "metadata": {},
   "outputs": [],
   "source": [
    "df = pd.read_csv(INPUT_CSV, sep=DELIMITER)"
   ]
  },
  {
   "cell_type": "code",
   "execution_count": 5,
   "id": "f8cf516b",
   "metadata": {},
   "outputs": [],
   "source": [
    "X = df.drop(columns=['Status'], errors='ignore')\n",
    "probas = model.predict_proba(X)"
   ]
  },
  {
   "cell_type": "code",
   "execution_count": 6,
   "id": "75d2032f",
   "metadata": {},
   "outputs": [],
   "source": [
    "\n",
    "label_order = ['Dropout', 'Graduate', 'Enrolled']\n",
    "mapping     = {code: label for code, label in zip(model.classes_, label_order)}"
   ]
  },
  {
   "cell_type": "code",
   "execution_count": 7,
   "id": "fcbafe3f",
   "metadata": {},
   "outputs": [],
   "source": [
    "for idx, code in enumerate(model.classes_):\n",
    "    df[f'Prob_{mapping[code]}'] = probas[:, idx]"
   ]
  },
  {
   "cell_type": "code",
   "execution_count": 8,
   "id": "9ca0091f",
   "metadata": {},
   "outputs": [],
   "source": [
    "prob_cols = [f'Prob_{mapping[c]}' for c in model.classes_]\n",
    "df['Predicted_Status'] = df[prob_cols].idxmax(axis=1).str.replace('Prob_', '')"
   ]
  },
  {
   "cell_type": "code",
   "execution_count": 9,
   "id": "71f9d5b0",
   "metadata": {},
   "outputs": [],
   "source": [
    "mask = df['Status'] == 'Enrolled'\n",
    "sum_prob = df.loc[mask, 'Prob_Dropout'] + df.loc[mask, 'Prob_Graduate']\n",
    "\n",
    "df.loc[mask, 'Future_Prob_Dropout']  = df.loc[mask, 'Prob_Dropout']  / sum_prob\n",
    "df.loc[mask, 'Future_Prob_Graduate'] = df.loc[mask, 'Prob_Graduate'] / sum_prob\n",
    "\n",
    "df.loc[mask, 'Future_Prediction'] = (\n",
    "    df.loc[mask, ['Future_Prob_Dropout','Future_Prob_Graduate']]\n",
    "      .apply(lambda x: 'Graduate' if x['Future_Prob_Graduate'] > x['Future_Prob_Dropout'] else 'Dropout', axis=1)\n",
    ")"
   ]
  },
  {
   "cell_type": "code",
   "execution_count": 10,
   "id": "fb6a7dcd",
   "metadata": {},
   "outputs": [],
   "source": [
    "df.loc[~mask, ['Future_Prob_Dropout','Future_Prob_Graduate','Future_Prediction']] = pd.NA"
   ]
  },
  {
   "cell_type": "code",
   "execution_count": 11,
   "id": "187edf53",
   "metadata": {},
   "outputs": [],
   "source": [
    "df.to_csv(OUTPUT_FULL_PRED_CSV, sep=DELIMITER, index=False)"
   ]
  },
  {
   "cell_type": "code",
   "execution_count": 12,
   "id": "074995e2",
   "metadata": {},
   "outputs": [],
   "source": [
    "df_enrolled = df[df['Status'] == 'Enrolled'].copy()\n",
    "df_enrolled.to_csv(OUTPUT_ENROLLED_STATUS_CSV, sep=DELIMITER, index=False)"
   ]
  },
  {
   "cell_type": "code",
   "execution_count": 13,
   "id": "7b5553c0",
   "metadata": {},
   "outputs": [
    {
     "data": {
      "text/plain": [
       "((4424, 44), (794, 44))"
      ]
     },
     "execution_count": 13,
     "metadata": {},
     "output_type": "execute_result"
    }
   ],
   "source": [
    "df.shape, df_enrolled.shape"
   ]
  },
  {
   "cell_type": "code",
   "execution_count": 15,
   "id": "3b6b43f7",
   "metadata": {},
   "outputs": [
    {
     "data": {
      "text/plain": [
       "Status\n",
       "Graduate    2209\n",
       "Dropout     1421\n",
       "Enrolled     794\n",
       "Name: count, dtype: int64"
      ]
     },
     "execution_count": 15,
     "metadata": {},
     "output_type": "execute_result"
    }
   ],
   "source": [
    "df['Status'].value_counts()"
   ]
  },
  {
   "cell_type": "code",
   "execution_count": 16,
   "id": "a4f0393a",
   "metadata": {},
   "outputs": [
    {
     "data": {
      "text/plain": [
       "Status\n",
       "Enrolled    794\n",
       "Name: count, dtype: int64"
      ]
     },
     "execution_count": 16,
     "metadata": {},
     "output_type": "execute_result"
    }
   ],
   "source": [
    "df_enrolled['Status'].value_counts()"
   ]
  },
  {
   "cell_type": "code",
   "execution_count": 17,
   "id": "975b7e2d",
   "metadata": {},
   "outputs": [
    {
     "data": {
      "text/plain": [
       "Predicted_Status\n",
       "Enrolled    3379\n",
       "Dropout     1045\n",
       "Name: count, dtype: int64"
      ]
     },
     "execution_count": 17,
     "metadata": {},
     "output_type": "execute_result"
    }
   ],
   "source": [
    "df['Predicted_Status'].value_counts()"
   ]
  },
  {
   "cell_type": "code",
   "execution_count": 19,
   "id": "15cbaf0e",
   "metadata": {},
   "outputs": [
    {
     "data": {
      "text/plain": [
       "Future_Prediction\n",
       "Dropout     438\n",
       "Graduate    356\n",
       "Name: count, dtype: int64"
      ]
     },
     "execution_count": 19,
     "metadata": {},
     "output_type": "execute_result"
    }
   ],
   "source": [
    "df_enrolled['Future_Prediction'].value_counts()"
   ]
  }
 ],
 "metadata": {
  "kernelspec": {
   "display_name": "Python 3",
   "language": "python",
   "name": "python3"
  },
  "language_info": {
   "codemirror_mode": {
    "name": "ipython",
    "version": 3
   },
   "file_extension": ".py",
   "mimetype": "text/x-python",
   "name": "python",
   "nbconvert_exporter": "python",
   "pygments_lexer": "ipython3",
   "version": "3.11.9"
  }
 },
 "nbformat": 4,
 "nbformat_minor": 5
}
